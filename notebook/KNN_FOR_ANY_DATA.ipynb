{
  "nbformat": 4,
  "nbformat_minor": 0,
  "metadata": {
    "colab": {
      "name": "KNN FOR ANY DATA",
      "provenance": [],
      "collapsed_sections": []
    },
    "kernelspec": {
      "name": "python3",
      "display_name": "Python 3"
    }
  },
  "cells": [
    {
      "cell_type": "code",
      "metadata": {
        "id": "V6qb-EHbgbd4",
        "colab_type": "code",
        "colab": {}
      },
      "source": [
        "import numpy as np\n",
        "import pandas as pd\n",
        "import sklearn\n",
        "from matplotlib import pyplot as plt\n",
        "from sklearn.metrics import confusion_matrix\n",
        "from sklearn.neighbors import KNeighborsClassifier\n",
        "from sklearn.model_selection import train_test_split\n",
        "import seaborn as sns\n",
        "sns.set()"
      ],
      "execution_count": 0,
      "outputs": []
    },
    {
      "cell_type": "code",
      "metadata": {
        "id": "w6tcxkvfm2Ev",
        "colab_type": "code",
        "colab": {}
      },
      "source": [
        "# Data in X and y"
      ],
      "execution_count": 0,
      "outputs": []
    },
    {
      "cell_type": "code",
      "metadata": {
        "id": "3-WMi0beguJ_",
        "colab_type": "code",
        "colab": {}
      },
      "source": [
        "# Load the parameters X and y\n",
        "x_train, x_test, y_train, y_test = train_test_split(X, y, test_size=0.30, random_state=1)\n"
      ],
      "execution_count": 0,
      "outputs": []
    },
    {
      "cell_type": "code",
      "metadata": {
        "id": "mmHwV2FQhAi6",
        "colab_type": "code",
        "colab": {}
      },
      "source": [
        "def dist(y_true, y_pred):    # to calculate distance\n",
        "    return tf.reduce_mean((tf.sqrt(tf.square(tf.abs(y_pred[:,0]-y_true[:,0]))+tf.square(tf.abs(y_pred[:,1]-y_true[:,1]))+tf.square(tf.abs(y_pred[:,2]-y_true[:,2])))))\n",
        "\n",
        "def true_dist(y_true, y_pred):    # to calculate true distance\n",
        "    return (np.sqrt(np.square(np.abs(y_pred[:,0]-y_true[:,0]))+np.square(np.abs(y_pred[:,1]-y_true[:,1]))+np.square(np.abs(y_pred[:,2]-y_true[:,2]))))"
      ],
      "execution_count": 0,
      "outputs": []
    },
    {
      "cell_type": "code",
      "metadata": {
        "id": "w7kXgJt1hSbL",
        "colab_type": "code",
        "colab": {}
      },
      "source": [
        "x_train=x_train.reshape((x_train.shape[0],-1)) # reshape to make it convenient\n",
        "x_train.shape"
      ],
      "execution_count": 0,
      "outputs": []
    },
    {
      "cell_type": "code",
      "metadata": {
        "id": "DMEcn4DLhU5D",
        "colab_type": "code",
        "colab": {}
      },
      "source": [
        "y_train.shape"
      ],
      "execution_count": 0,
      "outputs": []
    },
    {
      "cell_type": "code",
      "metadata": {
        "id": "y2FoX_byhWp7",
        "colab_type": "code",
        "colab": {}
      },
      "source": [
        "x_test=x_test.reshape((x_test.shape[0],-1)) # reshape to make it convenient\n",
        "x_test.shape"
      ],
      "execution_count": 0,
      "outputs": []
    },
    {
      "cell_type": "code",
      "metadata": {
        "id": "Z7ZkSw7ChYxK",
        "colab_type": "code",
        "colab": {}
      },
      "source": [
        "# Defining knn:\n",
        "knn = sklearn.neighbors.KNeighborsRegressor(n_neighbors=10, metric='euclidean')\n",
        "# training knn:\n",
        "knn.fit(x_train, y_train)"
      ],
      "execution_count": 0,
      "outputs": []
    },
    {
      "cell_type": "code",
      "metadata": {
        "id": "o43TUGNXha2r",
        "colab_type": "code",
        "colab": {}
      },
      "source": [
        "# predict using knn\n",
        "y_pred = knn.predict(x_test)"
      ],
      "execution_count": 0,
      "outputs": []
    },
    {
      "cell_type": "code",
      "metadata": {
        "id": "h0GysVXMhcya",
        "colab_type": "code",
        "colab": {}
      },
      "source": [
        "# Histogramm of errors on test Area\n",
        "errors = true_dist(y_pred , y_test)\n",
        "Mean_Error_Test = np.mean(np.abs(errors))\n",
        "print(\"Mean error on Test  area:\",Mean_Error_Test)\n",
        "plt.hist(errors,bins=64,range=(0,4))\n",
        "plt.ylabel('Number of occurence')\n",
        "plt.xlabel('Distance error')\n",
        "plt.title('10-KNN Error Distribution')"
      ],
      "execution_count": 0,
      "outputs": []
    },
    {
      "cell_type": "code",
      "metadata": {
        "id": "SNQEagdohegj",
        "colab_type": "code",
        "colab": {}
      },
      "source": [
        "import pickle\n",
        "with open('KNN_abs_h_10_error', 'wb') as f:\n",
        "    pickle.dump(errors, f)"
      ],
      "execution_count": 0,
      "outputs": []
    },
    {
      "cell_type": "code",
      "metadata": {
        "id": "1cDmyVbKhglb",
        "colab_type": "code",
        "colab": {}
      },
      "source": [
        "# Error Vector over Area in XY\n",
        "error_vectors = np.real(y_pred - y_test)\n",
        "plt.figure(figsize=(15,15))\n",
        "plt.quiver(np.real(y_test[:,0]),np.real(y_test[:,1]),error_vectors[:,0],error_vectors[:,1],errors)\n",
        "plt.xlabel(\"x in m\")\n",
        "plt.ylabel(\"y in m\")\n",
        "plt.title('10-KNN Error Vector in x-y plane')\n",
        "plt.show()"
      ],
      "execution_count": 0,
      "outputs": []
    },
    {
      "cell_type": "code",
      "metadata": {
        "id": "1aWzVQiqhiP8",
        "colab_type": "code",
        "colab": {}
      },
      "source": [
        ""
      ],
      "execution_count": 0,
      "outputs": []
    }
  ]
}